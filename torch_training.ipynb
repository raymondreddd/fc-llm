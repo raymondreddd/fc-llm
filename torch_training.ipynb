{
 "cells": [
  {
   "cell_type": "code",
   "execution_count": 8,
   "id": "f99cf9d1-11ea-4d58-ac17-56413425f772",
   "metadata": {},
   "outputs": [],
   "source": [
    "import torch"
   ]
  },
  {
   "cell_type": "code",
   "execution_count": 9,
   "id": "e57c9df2-cf6e-4f4a-b116-704800f674eb",
   "metadata": {},
   "outputs": [
    {
     "data": {
      "text/plain": [
       "tensor([ 184,  176, -119,   51,   79,  117])"
      ]
     },
     "execution_count": 9,
     "metadata": {},
     "output_type": "execute_result"
    }
   ],
   "source": [
    "randint = torch.randint(-200, 200, (6,))\n",
    "randint"
   ]
  },
  {
   "cell_type": "raw",
   "id": "0299b078-3084-4685-9832-616688969da9",
   "metadata": {},
   "source": [
    "tensor = tensor.tensor([0.1, 1.2],[2.2, 3.1], [4.9, 5.2])\n",
    "tensor"
   ]
  },
  {
   "cell_type": "code",
   "execution_count": 13,
   "id": "871368a4-929f-4e63-a063-c11e97c3394e",
   "metadata": {},
   "outputs": [
    {
     "data": {
      "text/plain": [
       "tensor([[0., 0., 0.],\n",
       "        [0., 0., 0.]])"
      ]
     },
     "execution_count": 13,
     "metadata": {},
     "output_type": "execute_result"
    }
   ],
   "source": [
    "zeros = torch.zeros(2,3)\n",
    "zeros"
   ]
  },
  {
   "cell_type": "code",
   "execution_count": 19,
   "id": "c32995c9-995f-48d7-a142-690d767aa494",
   "metadata": {},
   "outputs": [
    {
     "data": {
      "text/plain": [
       "tensor([ 10.0000,  13.2143,  16.4286,  19.6429,  22.8571,  26.0714,  29.2857,\n",
       "         32.5000,  35.7143,  38.9286,  42.1429,  45.3571,  48.5714,  51.7857,\n",
       "         55.0000,  58.2143,  61.4286,  64.6429,  67.8571,  71.0714,  74.2857,\n",
       "         77.5000,  80.7143,  83.9286,  87.1429,  90.3571,  93.5714,  96.7857,\n",
       "        100.0000])"
      ]
     },
     "execution_count": 19,
     "metadata": {},
     "output_type": "execute_result"
    }
   ],
   "source": [
    "linspace = torch.linspace(10, 100, 29)\n",
    "linspace"
   ]
  },
  {
   "cell_type": "code",
   "execution_count": null,
   "id": "702dd4a8-5ed0-49c6-aa49-ffdfe5f9cb12",
   "metadata": {},
   "outputs": [],
   "source": []
  }
 ],
 "metadata": {
  "kernelspec": {
   "display_name": "cuda-kernel",
   "language": "python",
   "name": "cuda"
  },
  "language_info": {
   "codemirror_mode": {
    "name": "ipython",
    "version": 3
   },
   "file_extension": ".py",
   "mimetype": "text/x-python",
   "name": "python",
   "nbconvert_exporter": "python",
   "pygments_lexer": "ipython3",
   "version": "3.10.12"
  }
 },
 "nbformat": 4,
 "nbformat_minor": 5
}
